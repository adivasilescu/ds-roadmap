{
 "cells": [
  {
   "cell_type": "markdown",
   "metadata": {},
   "source": [
    "# Steps: \n",
    "1. Python for Data Science, AI and Development - Coursera (Week 1-4)\n",
    "\n",
    "2. Databases and SQL for Data Science - Coursera (Week 1-3)\n",
    "\n",
    "3. R Programming - JHU (Week 1-4) & R for Daata Schience (cap 1-10)\n"
   ]
  },
  {
   "cell_type": "markdown",
   "metadata": {},
   "source": [
    "### Week 1-4\n",
    "```python\n",
    "index = 0, 1 ,2  (the number in a list)\n",
    "\n",
    "list: 'L = [\"The Bodyguard\", 7.0, 1992]' - lists are in [].\n",
    "\n",
    "lists can be .extend (multiple new elements), .append (one new element), '.split', 'copied' { a = [1.2] b = a print ('a:', a) }; 'delete' { del (A[-1]) }\n",
    "Tuplets: In Python, there are different data types: String, Integer, and Float. These data types can all be contained in a tuple\n",
    "\n",
    "tuple1 = (\"disco\",10,1.2 )\n",
    "Tuplests can be: 'sliced' (tuple2[0:2] ; concatenated tuple2 = tuple1 + (\"hard rock\", 10) ; obtain 'len' ; 'sorted' ; nested in brackets ;\n",
    "\n",
    "\n",
    "\n"
   ]
  },
  {
   "cell_type": "markdown",
   "metadata": {},
   "source": [
    "Dictionaries:  In summary, like a list, a dictionary holds a sequence of elements. Each element is represented by a key and its corresponding value. Dictionaries are created with two curly braces containing keys and values separated by a colon. For every key, there can only be one single value, however,  multiple keys can hold the same value. Keys can only be strings, numbers, or tuples, but values can be any data type.\n"
   ]
  },
  {
   "cell_type": "code",
   "execution_count": 24,
   "metadata": {},
   "outputs": [
    {
     "data": {
      "text/plain": [
       "True"
      ]
     },
     "execution_count": 24,
     "metadata": {},
     "output_type": "execute_result"
    }
   ],
   "source": [
    "#create dictionary\n",
    "\n",
    "dict = {\"key1\": 1, \"key2\": \"potato\"}\n",
    "\n",
    "#access one value by using the key\n",
    "dict[\"key1\"]\n",
    "\n",
    "#finding keys\n",
    "dict.keys()\n",
    "\n",
    "#finding valeus\n",
    "dict.values()\n",
    "\n",
    "#create empty dictionary\n",
    "dict2 = {}\n",
    "\n",
    "#store item in variable to later add in the dictionary\n",
    "value1 = \"something\"\n",
    "\n",
    "#add in the dictionary\n",
    "dict2[\"value1\"] = value1\n",
    "\n",
    "#check if is there\n",
    "\"value1\" in dict2\n"
   ]
  },
  {
   "cell_type": "markdown",
   "metadata": {},
   "source": [
    "Loops"
   ]
  },
  {
   "cell_type": "code",
   "execution_count": 25,
   "metadata": {},
   "outputs": [
    {
     "name": "stdout",
     "output_type": "stream",
     "text": [
      "red\n",
      "orange\n",
      "yellow\n",
      "green\n",
      "blue\n",
      "indigo\n",
      "violet\n"
     ]
    }
   ],
   "source": [
    "colors = [\"red\", \"orange\", \"yellow\", \"green\", \"blue\", \"indigo\", \"violet\"]\n",
    "\n",
    "for color in colors:\n",
    "    print(color)"
   ]
  },
  {
   "cell_type": "code",
   "execution_count": 26,
   "metadata": {},
   "outputs": [
    {
     "name": "stdout",
     "output_type": "stream",
     "text": [
      "0\n",
      "1\n",
      "2\n",
      "3\n",
      "4\n",
      "5\n",
      "6\n",
      "7\n",
      "8\n",
      "9\n",
      "10\n"
     ]
    }
   ],
   "source": [
    "for number in range(11):\n",
    "    print(number)"
   ]
  },
  {
   "cell_type": "code",
   "execution_count": 27,
   "metadata": {},
   "outputs": [
    {
     "name": "stdout",
     "output_type": "stream",
     "text": [
      "At position 0, I found a apple\n",
      "At position 1, I found a banana\n",
      "At position 2, I found a orange\n"
     ]
    }
   ],
   "source": [
    "fruits = [\"apple\", \"banana\", \"orange\"]\n",
    "\n",
    "for index, fruit in enumerate(fruits):\n",
    "    print(f\"At position {index}, I found a {fruit}\")"
   ]
  },
  {
   "cell_type": "markdown",
   "metadata": {},
   "source": [
    "While Condition"
   ]
  },
  {
   "cell_type": "markdown",
   "metadata": {},
   "source": []
  },
  {
   "cell_type": "code",
   "execution_count": null,
   "metadata": {},
   "outputs": [],
   "source": []
  }
 ],
 "metadata": {
  "kernelspec": {
   "display_name": "Python 3",
   "language": "python",
   "name": "python3"
  },
  "language_info": {
   "codemirror_mode": {
    "name": "ipython",
    "version": 3
   },
   "file_extension": ".py",
   "mimetype": "text/x-python",
   "name": "python",
   "nbconvert_exporter": "python",
   "pygments_lexer": "ipython3",
   "version": "3.13.2"
  }
 },
 "nbformat": 4,
 "nbformat_minor": 2
}
