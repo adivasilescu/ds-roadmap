{
 "cells": [
  {
   "cell_type": "code",
   "execution_count": null,
   "metadata": {},
   "outputs": [
    {
     "name": "stdout",
     "output_type": "stream",
     "text": [
      "ADIs\n",
      "adis\n"
     ]
    }
   ],
   "source": [
    "### Steps: 1. Python for Data Science, AI and Development - Coursera (Week 1-4)\n",
    "\n",
    "### Notes Week 2: Lists\n",
    "\n",
    "### index = 0, 1 ,2 (the number in a list)\n",
    "### list: L = [\"The Bodyguard\", 7.0, 1992] - lists are in [].\n",
    "### lists can be .extend (multiple new elements), .append (one new element), .split, copied { a = [1.2] b = a print ('a:', a) }; delete { del (A[-1]) }\n",
    "### Tuplets: In Python, there are different data types: String, Integer, and Float. These data types can all be contained in a tuple\n",
    "\n",
    "### tuple1 = (\"disco\",10,1.2 )\n",
    "### Tuplests can be: sliced (tuple2[0:2] ; concatenated tuple2 = tuple1 + (\"hard rock\", 10) ; obtain len ; sorted ; nested in brackets ;\n",
    "### 2. Databases and SQL for Data Science - Coursera (Week 1-3)\n",
    "\n",
    "### 3. R Programming - JHU (Week 1-4) & R for Daata Schience (cap 1-10) \n"
   ]
  },
  {
   "cell_type": "code",
   "execution_count": 5,
   "metadata": {},
   "outputs": [
    {
     "data": {
      "text/plain": [
       "'test'"
      ]
     },
     "execution_count": 5,
     "metadata": {},
     "output_type": "execute_result"
    }
   ],
   "source": [
    "m = \"test\"\n",
    "m"
   ]
  },
  {
   "cell_type": "code",
   "execution_count": null,
   "metadata": {},
   "outputs": [],
   "source": []
  }
 ],
 "metadata": {
  "kernelspec": {
   "display_name": "Python 3",
   "language": "python",
   "name": "python3"
  },
  "language_info": {
   "codemirror_mode": {
    "name": "ipython",
    "version": 3
   },
   "file_extension": ".py",
   "mimetype": "text/x-python",
   "name": "python",
   "nbconvert_exporter": "python",
   "pygments_lexer": "ipython3",
   "version": "3.13.2"
  }
 },
 "nbformat": 4,
 "nbformat_minor": 2
}
