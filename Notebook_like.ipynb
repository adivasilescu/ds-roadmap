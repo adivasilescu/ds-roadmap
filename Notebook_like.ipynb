{
 "cells": [
  {
   "cell_type": "code",
   "execution_count": null,
   "metadata": {},
   "outputs": [
    {
     "data": {
      "text/plain": [
       "Jarno.Smit@ing.com PS45VV; Sahil.Agrawal@ing.com OS17PY; Jinzhou.Cai@ing.com VI69XJ; Roxana.Mirea@ing.com PG25FU; Frank.Ebbers@ing.com GO25YM\n",
       "jarno.smit@ing.com ps45vv; sahil.agrawal@ing.com os17py; jinzhou.cai@ing.com vi69xj; roxana.mirea@ing.com pg25fu; frank.ebbers@ing.com go25ym\n"
      ]
     },
     "metadata": {},
     "output_type": "display_data"
    }
   ],
   "source": [
    "mailuri = \"Jarno.Smit@ing.com PS45VV; Sahil.Agrawal@ing.com OS17PY; Jinzhou.Cai@ing.com VI69XJ; Roxana.Mirea@ing.com PG25FU; Frank.Ebbers@ing.com GO25YM\";\n",
    "print (mailuri)\n",
    "mesaj = mailuri.lower()\n",
    "print (mesaj)\n"
   ]
  },
  {
   "cell_type": "code",
   "execution_count": null,
   "metadata": {},
   "outputs": [
    {
     "data": {
      "text/plain": [
       "jarno.smit@ing.com ps45vv; sahil.agrawal@ing.com os17py; jinzhou.cai@ing.com vi69xj; roxana.mirea@ing.com pg25fu; frank.ebbers@ing.com go25ym\n"
      ]
     },
     "metadata": {},
     "output_type": "display_data"
    }
   ],
   "source": [
    "mailuri = \"Jarno.Smit@ing.com PS45VV; Sahil.Agrawal@ing.com OS17PY; Jinzhou.Cai@ing.com VI69XJ; Roxana.Mirea@ing.com PG25FU; Frank.Ebbers@ing.com GO25YM\";\n",
    "mesaj = mailuri.lower()\n",
    "print (mesaj)\n"
   ]
  },
  {
   "cell_type": "code",
   "execution_count": null,
   "metadata": {},
   "outputs": [
    {
     "data": {
      "text/plain": [
       "jarno.smit@ing.com ps45vv\n",
       "; sahil.agrawal@ing.com os17py\n",
       "; jinzhou.cai@ing.com vi69xj\n",
       "; roxana.mirea@ing.com pg25fu\n",
       "; frank.ebbers@ing.com go25ym\n",
       ";\n"
      ]
     },
     "metadata": {},
     "output_type": "display_data"
    }
   ],
   "source": [
    "mailuri = \"Jarno.Smit@ing.com PS45VV\\n; Sahil.Agrawal@ing.com OS17PY\\n; Jinzhou.Cai@ing.com VI69XJ\\n; Roxana.Mirea@ing.com PG25FU\\n; Frank.Ebbers@ing.com GO25YM\\n;\"\n",
    "mesaj = mailuri.lower()\n",
    "print (mesaj)\n"
   ]
  },
  {
   "cell_type": "code",
   "execution_count": null,
   "metadata": {},
   "outputs": [],
   "source": [
    "mailuri = \"WI06KL\"\n"
   ]
  },
  {
   "cell_type": "code",
   "execution_count": null,
   "metadata": {},
   "outputs": [
    {
     "data": {
      "text/plain": [
       "wi06kl\n"
      ]
     },
     "metadata": {},
     "output_type": "display_data"
    }
   ],
   "source": [
    "mailuri = \"WI06KL\"\n",
    "mesaj = mailuri.lower()\n",
    "print (mesaj)\n"
   ]
  },
  {
   "cell_type": "code",
   "execution_count": null,
   "metadata": {},
   "outputs": [
    {
     "data": {
      "text/plain": [
       "jv54wt\n"
      ]
     },
     "metadata": {},
     "output_type": "display_data"
    }
   ],
   "source": [
    "mailuri = \"JV54WT\"\n",
    "mesaj = mailuri.lower()\n",
    "print (mesaj)\n"
   ]
  },
  {
   "cell_type": "code",
   "execution_count": null,
   "metadata": {},
   "outputs": [
    {
     "data": {
      "text/plain": [
       "hs66ee\n"
      ]
     },
     "metadata": {},
     "output_type": "display_data"
    }
   ],
   "source": [
    "mailuri = \"HS66EE\"\n",
    "mesaj = mailuri.lower()\n",
    "print (mesaj)\n"
   ]
  },
  {
   "cell_type": "code",
   "execution_count": null,
   "metadata": {},
   "outputs": [
    {
     "data": {
      "text/plain": [
       "ha14sn\n"
      ]
     },
     "metadata": {},
     "output_type": "display_data"
    }
   ],
   "source": [
    "mailuri = \"HA14SN\"\n",
    "mesaj = mailuri.lower()\n",
    "print (mesaj)\n"
   ]
  },
  {
   "cell_type": "code",
   "execution_count": null,
   "metadata": {},
   "outputs": [
    {
     "data": {
      "text/plain": [
       "ey21lu\n"
      ]
     },
     "metadata": {},
     "output_type": "display_data"
    }
   ],
   "source": [
    "mailuri = \"EY21LU\"\n",
    "mesaj = mailuri.lower()\n",
    "print (mesaj)\n"
   ]
  },
  {
   "cell_type": "code",
   "execution_count": null,
   "metadata": {},
   "outputs": [
    {
     "data": {
      "text/plain": [
       "aj62vq\n"
      ]
     },
     "metadata": {},
     "output_type": "display_data"
    }
   ],
   "source": [
    "mailuri = \"AJ62VQ\"\n",
    "mesaj = mailuri.lower()\n",
    "print (mesaj)\n"
   ]
  },
  {
   "cell_type": "code",
   "execution_count": null,
   "metadata": {},
   "outputs": [
    {
     "data": {
      "text/plain": [
       "qc14or\n"
      ]
     },
     "metadata": {},
     "output_type": "display_data"
    }
   ],
   "source": [
    "mailuri = \"QC14OR\"\n",
    "mesaj = mailuri.lower()\n",
    "print (mesaj)\n"
   ]
  },
  {
   "cell_type": "code",
   "execution_count": null,
   "metadata": {},
   "outputs": [
    {
     "data": {
      "text/plain": [
       "qc14or\n"
      ]
     },
     "metadata": {},
     "output_type": "display_data"
    }
   ],
   "source": [
    "mailuri = \"QC14OR\"\n",
    "mesaj = mailuri.lower()\n",
    "print (mesaj)\n"
   ]
  },
  {
   "cell_type": "code",
   "execution_count": null,
   "metadata": {},
   "outputs": [
    {
     "data": {
      "text/plain": [
       "gc21uw\n"
      ]
     },
     "metadata": {},
     "output_type": "display_data"
    }
   ],
   "source": [
    "mailuri = \"GC21UW\"\n",
    "mesaj = mailuri.lower()\n",
    "print (mesaj)\n"
   ]
  },
  {
   "cell_type": "code",
   "execution_count": null,
   "metadata": {},
   "outputs": [
    {
     "data": {
      "text/plain": [
       "dg32ts\n"
      ]
     },
     "metadata": {},
     "output_type": "display_data"
    }
   ],
   "source": [
    "mailuri = \"DG32TS\"\n",
    "mesaj = mailuri.lower()\n",
    "print (mesaj)\n"
   ]
  },
  {
   "cell_type": "code",
   "execution_count": null,
   "metadata": {},
   "outputs": [
    {
     "data": {
      "text/plain": [
       "re23hu\n"
      ]
     },
     "metadata": {},
     "output_type": "display_data"
    }
   ],
   "source": [
    "mailuri = \"RE23HU\"\n",
    "mesaj = mailuri.lower()\n",
    "print (mesaj)\n"
   ]
  },
  {
   "cell_type": "code",
   "execution_count": null,
   "metadata": {},
   "outputs": [
    {
     "data": {
      "text/plain": [
       "qq33jn\n"
      ]
     },
     "metadata": {},
     "output_type": "display_data"
    }
   ],
   "source": [
    "mailuri = \"QQ33JN\"\n",
    "mesaj = mailuri.lower()\n",
    "print (mesaj)\n"
   ]
  },
  {
   "cell_type": "code",
   "execution_count": null,
   "metadata": {},
   "outputs": [
    {
     "data": {
      "text/plain": [
       "fu98bo\tadrian.klusek@ing.com \n",
       "ou33ar\tarturo.olmedo.flores@ing.com\n",
       "xf03ja\tfarzam.fanitabasi@ing.com\n",
       "ud49cj\tjaroslaw.kurpanik@ing.com\n",
       "nj14sg\tsantiago.gil.begue@ing.com\n",
       "ei06qp\tsergiu-ionut.craioveanu@ing.com\n",
       "nu22xm\ttheodor.daniel.orbuletu@ing.com\n",
       "pm26tq\ttudor.tanase@ing.com\n",
       "bu31ds\tartur.koniuszy1@ing.com\n",
       "nv74ft\tantonina.lewicka@ing.com\n"
      ]
     },
     "metadata": {},
     "output_type": "display_data"
    }
   ],
   "source": [
    "mailuri = \"FU98BO\tAdrian.Klusek@ing.com \\nOU33AR\tarturo.olmedo.flores@ing.com\\nXF03JA\tfarzam.fanitabasi@ing.com\\nUD49CJ\tjaroslaw.kurpanik@ing.com\\nNJ14SG\tSantiago.Gil.Begue@ing.com\\nEI06QP\tsergiu-ionut.craioveanu@ing.com\\nNU22XM\ttheodor.daniel.orbuletu@ing.com\\nPM26TQ\ttudor.tanase@ing.com\\nBU31DS\tARTUR.KONIUSZY1@ing.com\\nNV74FT\tAntonina.Lewicka@ing.com\"\n",
    "mesaj = mailuri.lower()\n",
    "print (mesaj)\n"
   ]
  },
  {
   "cell_type": "code",
   "execution_count": null,
   "metadata": {},
   "outputs": [
    {
     "data": {
      "text/plain": [
       "Jarno.Smit@ing.com PS45VV; Sahil.Agrawal@ing.com OS17PY; Jinzhou.Cai@ing.com VI69XJ; Roxana.Mirea@ing.com PG25FU; Frank.Ebbers@ing.com GO25YM\n",
       "jarno.smit@ing.com ps45vv; sahil.agrawal@ing.com os17py; jinzhou.cai@ing.com vi69xj; roxana.mirea@ing.com pg25fu; frank.ebbers@ing.com go25ym\n"
      ]
     },
     "metadata": {},
     "output_type": "display_data"
    }
   ],
   "source": [
    "mailuri = \"Jarno.Smit@ing.com PS45VV; Sahil.Agrawal@ing.com OS17PY; Jinzhou.Cai@ing.com VI69XJ; Roxana.Mirea@ing.com PG25FU; Frank.Ebbers@ing.com GO25YM\";\n",
    "print (mailuri)\n",
    "mesaj = mailuri.lower()\n",
    "print (mesaj)\n",
    "\n",
    "\n"
   ]
  },
  {
   "cell_type": "code",
   "execution_count": null,
   "metadata": {},
   "outputs": [],
   "source": []
  }
 ],
 "metadata": {
  "language_info": {
   "name": "python"
  }
 },
 "nbformat": 4,
 "nbformat_minor": 2
}
